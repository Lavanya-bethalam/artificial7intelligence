{
 "cells": [
  {
   "cell_type": "code",
   "execution_count": null,
   "metadata": {},
   "outputs": [],
   "source": []
  },
  {
   "cell_type": "code",
   "execution_count": null,
   "metadata": {},
   "outputs": [],
   "source": [
    "#######  FINAL RESULTS FOR THE END OF THE DAY   ##########\n",
    "\n",
    "# 1. we created a dataframe from another dataframes as what we required from those dataframes OF CE(OPTION TYPE)  (4-07-2019)\n",
    "# 2. we have done ploting a graph through matplotlib for the data in the final dataframe         (5-07-2019)\n",
    "# 3.  we created a dataframe from another dataframes as what we required from those dataframes OF PE(OPTION TYPE)\n",
    "    #  For the 3rd point just csv file will be changed remaining is same as CE(OPTION TYPE) "
   ]
  },
  {
   "cell_type": "code",
   "execution_count": 1,
   "metadata": {},
   "outputs": [],
   "source": [
    "## bank nifty for 3-jan to 10-jan for CE(option type)"
   ]
  },
  {
   "cell_type": "code",
   "execution_count": 9,
   "metadata": {},
   "outputs": [],
   "source": [
    "import numpy as np\n",
    "import pandas as pd\n",
    "import os\n",
    "os.chdir(\"C:\\\\Users\\\\bired\\\\Desktop\\\\pics\")\n",
    "\n",
    "### changing a current directory to read the csv file and read csv file \n",
    "df=pd.read_csv('nifty3jan.csv')\n",
    "\n",
    "## droping unwanted columns and set the [expiry,date,strikeprice] as index\n",
    "df=df.drop([\"Symbol\",\"Option Type\",\"Settle Price\",\"No. of contracts\",\"Turnover in Lacs\",\"Premium Turnover in Lacs\",\"Open Int\",\"Change in OI\",\"Underlying Value\"],axis=1)\n",
    "df.set_index(['Expiry','Date','Strike Price'],inplace=True)"
   ]
  },
  {
   "cell_type": "code",
   "execution_count": 10,
   "metadata": {},
   "outputs": [],
   "source": [
    "## from this dataframe we extract the close value of 03-jan-2019\n",
    "os.chdir('C:\\\\Users\\\\bired\\\\Desktop\\\\pics')\n",
    "df1=pd.read_csv('Data.csv')\n",
    "df1=df1.set_index('Date')\n",
    "x=df1.loc['03-Jan-2019']['Close']\n",
    "x=np.round(x,decimals=-2)"
   ]
  },
  {
   "cell_type": "code",
   "execution_count": 17,
   "metadata": {},
   "outputs": [
    {
     "data": {
      "text/html": [
       "<div>\n",
       "<style scoped>\n",
       "    .dataframe tbody tr th:only-of-type {\n",
       "        vertical-align: middle;\n",
       "    }\n",
       "\n",
       "    .dataframe tbody tr th {\n",
       "        vertical-align: top;\n",
       "    }\n",
       "\n",
       "    .dataframe thead th {\n",
       "        text-align: right;\n",
       "    }\n",
       "</style>\n",
       "<table border=\"1\" class=\"dataframe\">\n",
       "  <thead>\n",
       "    <tr style=\"text-align: right;\">\n",
       "      <th></th>\n",
       "      <th></th>\n",
       "      <th></th>\n",
       "      <th>Open</th>\n",
       "      <th>High</th>\n",
       "      <th>Low</th>\n",
       "      <th>Close</th>\n",
       "      <th>LTP</th>\n",
       "    </tr>\n",
       "    <tr>\n",
       "      <th>Expiry</th>\n",
       "      <th>Date</th>\n",
       "      <th>Strike Price</th>\n",
       "      <th></th>\n",
       "      <th></th>\n",
       "      <th></th>\n",
       "      <th></th>\n",
       "      <th></th>\n",
       "    </tr>\n",
       "  </thead>\n",
       "  <tbody>\n",
       "    <tr>\n",
       "      <th rowspan=\"5\" valign=\"top\">10-Jan-2019</th>\n",
       "      <th rowspan=\"5\" valign=\"top\">03-Jan-2019</th>\n",
       "      <th>23900</th>\n",
       "      <td>0.0</td>\n",
       "      <td>0.0</td>\n",
       "      <td>0.0</td>\n",
       "      <td>3287.95</td>\n",
       "      <td>3287.95</td>\n",
       "    </tr>\n",
       "    <tr>\n",
       "      <th>29000</th>\n",
       "      <td>2.9</td>\n",
       "      <td>2.9</td>\n",
       "      <td>1.1</td>\n",
       "      <td>1.20</td>\n",
       "      <td>1.10</td>\n",
       "    </tr>\n",
       "    <tr>\n",
       "      <th>24100</th>\n",
       "      <td>0.0</td>\n",
       "      <td>0.0</td>\n",
       "      <td>0.0</td>\n",
       "      <td>2124.80</td>\n",
       "      <td>0.00</td>\n",
       "    </tr>\n",
       "    <tr>\n",
       "      <th>24200</th>\n",
       "      <td>0.0</td>\n",
       "      <td>0.0</td>\n",
       "      <td>0.0</td>\n",
       "      <td>2051.50</td>\n",
       "      <td>0.00</td>\n",
       "    </tr>\n",
       "    <tr>\n",
       "      <th>24300</th>\n",
       "      <td>0.0</td>\n",
       "      <td>0.0</td>\n",
       "      <td>0.0</td>\n",
       "      <td>1978.35</td>\n",
       "      <td>0.00</td>\n",
       "    </tr>\n",
       "  </tbody>\n",
       "</table>\n",
       "</div>"
      ],
      "text/plain": [
       "                                      Open  High  Low    Close      LTP\n",
       "Expiry      Date        Strike Price                                   \n",
       "10-Jan-2019 03-Jan-2019 23900          0.0   0.0  0.0  3287.95  3287.95\n",
       "                        29000          2.9   2.9  1.1     1.20     1.10\n",
       "                        24100          0.0   0.0  0.0  2124.80     0.00\n",
       "                        24200          0.0   0.0  0.0  2051.50     0.00\n",
       "                        24300          0.0   0.0  0.0  1978.35     0.00"
      ]
     },
     "execution_count": 17,
     "metadata": {},
     "output_type": "execute_result"
    }
   ],
   "source": [
    "df.head()"
   ]
  },
  {
   "cell_type": "code",
   "execution_count": 11,
   "metadata": {},
   "outputs": [],
   "source": [
    "## extracting the values of close from 3-jan to 10-jan from df dataframe\n",
    "n3=df.loc['10-Jan-2019'].loc['03-Jan-2019'].loc[26600:27400]['Close']\n",
    "n4=df.loc['10-Jan-2019'].loc['04-Jan-2019'].loc[26600:27400]['Close']\n",
    "n7=df.loc['10-Jan-2019'].loc['07-Jan-2019'].loc[26600:27400]['Close']\n",
    "n8=df.loc['10-Jan-2019'].loc['08-Jan-2019'].loc[26600:27400]['Close']\n",
    "n9=df.loc['10-Jan-2019'].loc['09-Jan-2019'].loc[26600:27400]['Close']\n",
    "n10=df.loc['10-Jan-2019'].loc['10-Jan-2019'].loc[26600:27400]['Close']"
   ]
  },
  {
   "cell_type": "code",
   "execution_count": 12,
   "metadata": {},
   "outputs": [],
   "source": [
    "## merging the values and renaming the columns heading to the dates\n",
    "m1=pd.merge(n3,n4,how='left',on=['Strike Price'])\n",
    "m1['03-Jan-2019']=m1['Close_x']\n",
    "m1['04-Jan-2019']=m1['Close_y']\n",
    "m1=m1.drop(['Close_x','Close_y'],axis=1)\n",
    "\n",
    "m2=pd.merge(m1,n7,how='left',on=['Strike Price'])\n",
    "m3=pd.merge(m2,n8,how='left',on=['Strike Price'])\n",
    "m3['07-Jan-2019']=m3['Close_x']\n",
    "m3['08-Jan-2019']=m3['Close_y']\n",
    "m3=m3.drop(['Close_x','Close_y'],axis=1)\n",
    "\n",
    "m4=pd.merge(m3,n9,how='left',on=['Strike Price'])\n",
    "m5=pd.merge(m4,n10,how='left',on=['Strike Price'])\n",
    "m5['09-Jan-2019']=m5['Close_x']\n",
    "m5['10-Jan-2019']=m5['Close_y']\n",
    "m5=m5.drop(['Close_x','Close_y'],axis=1)\n",
    "## adding a expiry column to the existing dataframe\n",
    "m5['Expiry']='10-Jan-2019'\n"
   ]
  },
  {
   "cell_type": "code",
   "execution_count": 18,
   "metadata": {},
   "outputs": [
    {
     "data": {
      "text/html": [
       "<div>\n",
       "<style scoped>\n",
       "    .dataframe tbody tr th:only-of-type {\n",
       "        vertical-align: middle;\n",
       "    }\n",
       "\n",
       "    .dataframe tbody tr th {\n",
       "        vertical-align: top;\n",
       "    }\n",
       "\n",
       "    .dataframe thead th {\n",
       "        text-align: right;\n",
       "    }\n",
       "</style>\n",
       "<table border=\"1\" class=\"dataframe\">\n",
       "  <thead>\n",
       "    <tr style=\"text-align: right;\">\n",
       "      <th></th>\n",
       "      <th>03-Jan-2019</th>\n",
       "      <th>04-Jan-2019</th>\n",
       "      <th>07-Jan-2019</th>\n",
       "      <th>08-Jan-2019</th>\n",
       "      <th>09-Jan-2019</th>\n",
       "      <th>10-Jan-2019</th>\n",
       "      <th>Expiry</th>\n",
       "    </tr>\n",
       "    <tr>\n",
       "      <th>Strike Price</th>\n",
       "      <th></th>\n",
       "      <th></th>\n",
       "      <th></th>\n",
       "      <th></th>\n",
       "      <th></th>\n",
       "      <th></th>\n",
       "      <th></th>\n",
       "    </tr>\n",
       "  </thead>\n",
       "  <tbody>\n",
       "    <tr>\n",
       "      <th>26600</th>\n",
       "      <td>476.20</td>\n",
       "      <td>665.05</td>\n",
       "      <td>696.20</td>\n",
       "      <td>872.90</td>\n",
       "      <td>1044.45</td>\n",
       "      <td>918.45</td>\n",
       "      <td>10-Jan-2019</td>\n",
       "    </tr>\n",
       "    <tr>\n",
       "      <th>26700</th>\n",
       "      <td>403.70</td>\n",
       "      <td>566.85</td>\n",
       "      <td>594.60</td>\n",
       "      <td>776.00</td>\n",
       "      <td>935.85</td>\n",
       "      <td>831.95</td>\n",
       "      <td>10-Jan-2019</td>\n",
       "    </tr>\n",
       "    <tr>\n",
       "      <th>26800</th>\n",
       "      <td>338.35</td>\n",
       "      <td>491.95</td>\n",
       "      <td>507.05</td>\n",
       "      <td>677.60</td>\n",
       "      <td>845.25</td>\n",
       "      <td>725.15</td>\n",
       "      <td>10-Jan-2019</td>\n",
       "    </tr>\n",
       "    <tr>\n",
       "      <th>26900</th>\n",
       "      <td>282.45</td>\n",
       "      <td>414.95</td>\n",
       "      <td>421.00</td>\n",
       "      <td>590.80</td>\n",
       "      <td>747.25</td>\n",
       "      <td>630.55</td>\n",
       "      <td>10-Jan-2019</td>\n",
       "    </tr>\n",
       "    <tr>\n",
       "      <th>27000</th>\n",
       "      <td>231.65</td>\n",
       "      <td>342.30</td>\n",
       "      <td>344.15</td>\n",
       "      <td>501.15</td>\n",
       "      <td>650.75</td>\n",
       "      <td>521.35</td>\n",
       "      <td>10-Jan-2019</td>\n",
       "    </tr>\n",
       "    <tr>\n",
       "      <th>27100</th>\n",
       "      <td>187.30</td>\n",
       "      <td>280.00</td>\n",
       "      <td>275.75</td>\n",
       "      <td>404.45</td>\n",
       "      <td>553.55</td>\n",
       "      <td>413.35</td>\n",
       "      <td>10-Jan-2019</td>\n",
       "    </tr>\n",
       "    <tr>\n",
       "      <th>27200</th>\n",
       "      <td>148.20</td>\n",
       "      <td>221.75</td>\n",
       "      <td>214.40</td>\n",
       "      <td>317.95</td>\n",
       "      <td>458.05</td>\n",
       "      <td>318.70</td>\n",
       "      <td>10-Jan-2019</td>\n",
       "    </tr>\n",
       "    <tr>\n",
       "      <th>27300</th>\n",
       "      <td>114.50</td>\n",
       "      <td>171.70</td>\n",
       "      <td>161.95</td>\n",
       "      <td>244.45</td>\n",
       "      <td>360.75</td>\n",
       "      <td>222.40</td>\n",
       "      <td>10-Jan-2019</td>\n",
       "    </tr>\n",
       "    <tr>\n",
       "      <th>27400</th>\n",
       "      <td>86.75</td>\n",
       "      <td>128.25</td>\n",
       "      <td>119.50</td>\n",
       "      <td>181.60</td>\n",
       "      <td>275.05</td>\n",
       "      <td>124.15</td>\n",
       "      <td>10-Jan-2019</td>\n",
       "    </tr>\n",
       "  </tbody>\n",
       "</table>\n",
       "</div>"
      ],
      "text/plain": [
       "              03-Jan-2019  04-Jan-2019  07-Jan-2019  08-Jan-2019  09-Jan-2019  \\\n",
       "Strike Price                                                                    \n",
       "26600              476.20       665.05       696.20       872.90      1044.45   \n",
       "26700              403.70       566.85       594.60       776.00       935.85   \n",
       "26800              338.35       491.95       507.05       677.60       845.25   \n",
       "26900              282.45       414.95       421.00       590.80       747.25   \n",
       "27000              231.65       342.30       344.15       501.15       650.75   \n",
       "27100              187.30       280.00       275.75       404.45       553.55   \n",
       "27200              148.20       221.75       214.40       317.95       458.05   \n",
       "27300              114.50       171.70       161.95       244.45       360.75   \n",
       "27400               86.75       128.25       119.50       181.60       275.05   \n",
       "\n",
       "              10-Jan-2019       Expiry  \n",
       "Strike Price                            \n",
       "26600              918.45  10-Jan-2019  \n",
       "26700              831.95  10-Jan-2019  \n",
       "26800              725.15  10-Jan-2019  \n",
       "26900              630.55  10-Jan-2019  \n",
       "27000              521.35  10-Jan-2019  \n",
       "27100              413.35  10-Jan-2019  \n",
       "27200              318.70  10-Jan-2019  \n",
       "27300              222.40  10-Jan-2019  \n",
       "27400              124.15  10-Jan-2019  "
      ]
     },
     "execution_count": 18,
     "metadata": {},
     "output_type": "execute_result"
    }
   ],
   "source": [
    "m5"
   ]
  },
  {
   "cell_type": "code",
   "execution_count": 14,
   "metadata": {},
   "outputs": [
    {
     "data": {
      "text/plain": [
       "Text(0, 0.5, 'strike price_27000')"
      ]
     },
     "execution_count": 14,
     "metadata": {},
     "output_type": "execute_result"
    },
    {
     "data": {
      "image/png": "[encoded data removed]",
      "text/plain": [
       "<Figure size 432x288 with 1 Axes>"
      ]
     },
     "metadata": {
      "needs_background": "light"
     },
     "output_type": "display_data"
    }
   ],
   "source": [
    "\n",
    "## import matplotlib library to plot the diagramatic ways\n",
    "import matplotlib.pyplot as plt\n",
    "%matplotlib inline\n",
    "\n",
    "## creating a x and y axis values from the final dataframe and ploting the graph through it\n",
    "x=['3-jan','4-jan','7-jan','8-jan','9-jan','10-jan']\n",
    "y=[231.6,342.30,344.15,501.15,650.75,521.35]\n",
    "plt.plot(x,y,'ro--')\n",
    "plt.xlabel('Date')\n",
    "plt.ylabel('strike price_27000')\n",
    "\n",
    "\n"
   ]
  },
  {
   "cell_type": "code",
   "execution_count": null,
   "metadata": {},
   "outputs": [],
   "source": []
  },
  {
   "cell_type": "code",
   "execution_count": 2,
   "metadata": {},
   "outputs": [],
   "source": [
    "## bank nifty for 3-jan to 10-jan for PE(option type)\n"
   ]
  },
  {
   "cell_type": "code",
   "execution_count": 3,
   "metadata": {},
   "outputs": [
    {
     "data": {
      "text/plain": [
       "Text(0, 0.5, 'strike price_27000')"
      ]
     },
     "execution_count": 3,
     "metadata": {},
     "output_type": "execute_result"
    },
    {
     "data": {
      "image/png": "[encoded data removed]",
      "text/plain": [
       "<Figure size 432x288 with 1 Axes>"
      ]
     },
     "metadata": {
      "needs_background": "light"
     },
     "output_type": "display_data"
    }
   ],
   "source": [
    "import numpy as np\n",
    "import pandas as pd\n",
    "import os\n",
    "\n",
    "#### changing a current directory to read the csv file and read csv file \n",
    "os.chdir('C:\\\\Users\\\\bired\\\\Desktop\\\\pics')\n",
    "df=pd.read_csv('nifty3.PE.csv')\n",
    "\n",
    "## droping unwanted columns and set the [expiry,date,strikeprice] as index\n",
    "df=df.drop([\"Symbol\",\"Option Type\",\"Settle Price\",\"No. of contracts\",\"Turnover in Lacs\",\"Premium Turnover in Lacs\",\"Open Int\",\"Change in OI\",\"Underlying Value\"],axis=1)\n",
    "df.set_index(['Expiry','Date','Strike Price'],inplace=True)\n",
    "\n",
    "## from this dataframe we extract the close value of 03-jan-2019\n",
    "df1=pd.read_csv('data.csv')\n",
    "df1=df1.set_index('Date')\n",
    "x=df1.loc['03-Jan-2019']['Close']\n",
    "x=np.round(x,decimals=-2)\n",
    "\n",
    "## extracting the values of close from 3-jan to 10-jan from df dataframe\n",
    "n3=df.loc['10-Jan-2019'].loc['03-Jan-2019'].loc[26600:27400]['Close']\n",
    "n4=df.loc['10-Jan-2019'].loc['04-Jan-2019'].loc[26600:27400]['Close']\n",
    "n7=df.loc['10-Jan-2019'].loc['07-Jan-2019'].loc[26600:27400]['Close']\n",
    "n8=df.loc['10-Jan-2019'].loc['08-Jan-2019'].loc[26600:27400]['Close']\n",
    "n9=df.loc['10-Jan-2019'].loc['09-Jan-2019'].loc[26600:27400]['Close']\n",
    "n10=df.loc['10-Jan-2019'].loc['10-Jan-2019'].loc[26600:27400]['Close']\n",
    "\n",
    "## merging the values \n",
    "m1=pd.merge(n3,n4,how='left',on=['Strike Price'])\n",
    "m1=m1.rename(columns={'Close_x':'03-Jan-2019','Close_y':'04-Jan-2019'})\n",
    "\n",
    "m2=pd.merge(m1,n7,how='left',on=['Strike Price'])\n",
    "m3=pd.merge(m2,n8,how='left',on=['Strike Price'])\n",
    "m3=m3.rename(columns={'Close_x':'07-Jan-2019','Close_y':'08-Jan-2019'})\n",
    "m4=pd.merge(m3,n9,how='left',on=['Strike Price'])\n",
    "m5=pd.merge(m4,n10,how='left',on=['Strike Price'])\n",
    "m5=m5.rename(columns={'Close_x':'09-Jan-2019','Close_y':'10-Jan-2019'})\n",
    "m5['Expiry']='10-Jan-2019'\n",
    "\n",
    "## import matplotlib library to plot the diagramatic ways\n",
    "import matplotlib.pyplot as plt\n",
    "%matplotlib inline\n",
    "\n",
    "## creating a x and y axis values from the final dataframe and ploting the graph through it\n",
    "x=['3-jan','4-jan','7-jan','8-jan','9-jan','10-jan']\n",
    "y=[223.90,101.05,57.55,21.35,4.35,0.05]\n",
    "plt.plot(x,y,'go--')\n",
    "plt.xlabel('Date')\n",
    "plt.ylabel('strike price_27000')"
   ]
  },
  {
   "cell_type": "code",
   "execution_count": 4,
   "metadata": {
    "scrolled": true
   },
   "outputs": [
    {
     "data": {
      "text/plain": [
       "<matplotlib.legend.Legend at 0x1dba2fae860>"
      ]
     },
     "execution_count": 4,
     "metadata": {},
     "output_type": "execute_result"
    },
    {
     "data": {
      "image/png": "[encoded data removed]",
      "text/plain": [
       "<Figure size 432x288 with 1 Axes>"
      ]
     },
     "metadata": {
      "needs_background": "light"
     },
     "output_type": "display_data"
    }
   ],
   "source": [
    "x=['3-jan','4-jan','7-jan','8-jan','9-jan','10-jan']\n",
    "y1=[231.6,342.30,344.15,501.15,650.75,521.35]\n",
    "y2=[187.30,280.00,275.75,404.45,553.55,413.35]\n",
    "y3=[148.20,221.75,214.40,317.95,458.05,318.70]\n",
    "y4=[114.50,171.70,161.95,244.45,360.75,222.40]\n",
    "plt.plot(x,y1,'ro--',label='27000')\n",
    "plt.plot(x,y2,'ko--',label='27100')\n",
    "plt.plot(x,y3,'yo--',label='27200')\n",
    "plt.plot(x,y4,'bo--',label='27300')\n",
    "plt.xlabel('Date')\n",
    "plt.ylabel('strike price')\n",
    "plt.legend()"
   ]
  },
  {
   "cell_type": "code",
   "execution_count": null,
   "metadata": {},
   "outputs": [],
   "source": []
  },
  {
   "cell_type": "code",
   "execution_count": 5,
   "metadata": {},
   "outputs": [
    {
     "data": {
      "text/plain": [
       "Text(0, 0.5, 'strike price_27000')"
      ]
     },
     "execution_count": 5,
     "metadata": {},
     "output_type": "execute_result"
    },
    {
     "data": {
      "image/png": "[encoded data removed]",
      "text/plain": [
       "<Figure size 432x288 with 1 Axes>"
      ]
     },
     "metadata": {
      "needs_background": "light"
     },
     "output_type": "display_data"
    }
   ],
   "source": [
    "x=['3-jan','4-jan','7-jan','8-jan','9-jan','10-jan']\n",
    "y=[223.90,101.05,57.55,21.35,4.35,0.05]\n",
    "y1=[231.6,342.30,344.15,501.15,650.75,521.35]\n",
    "plt.plot(x,y,'go--')\n",
    "plt.plot(x,y1,'ro--')\n",
    "plt.xlabel('Date')\n",
    "plt.ylabel('strike price_27000')"
   ]
  },
  {
   "cell_type": "code",
   "execution_count": 9,
   "metadata": {
    "scrolled": false
   },
   "outputs": [
    {
     "data": {
      "text/plain": [
       "Text(0, 0.5, 'strike price_27000')"
      ]
     },
     "execution_count": 9,
     "metadata": {},
     "output_type": "execute_result"
    },
    {
     "data": {
      "image/png": "[encoded data removed]",
      "text/plain": [
       "<Figure size 432x288 with 1 Axes>"
      ]
     },
     "metadata": {
      "needs_background": "light"
     },
     "output_type": "display_data"
    }
   ],
   "source": [
    "#merging of both CE &PE\n",
    "import numpy as np\n",
    "import pandas as pd\n",
    "import os\n",
    "\n",
    "### changing a current directory to read the csv file and read csv file \n",
    "os.chdir('C:\\\\Users\\\\bired\\\\Desktop\\\\pics')\n",
    "df=pd.read_csv('nifty3jan.csv')\n",
    "\n",
    "## droping unwanted columns and set the [expiry,date,strikeprice] as index\n",
    "df=df.drop([\"Symbol\",\"Option Type\",\"Settle Price\",\"No. of contracts\",\"Turnover in Lacs\",\"Premium Turnover in Lacs\",\"Open Int\",\"Change in OI\",\"Underlying Value\"],axis=1)\n",
    "df.set_index(['Expiry','Date','Strike Price'],inplace=True)\n",
    "\n",
    "## from this dataframe we extract the close value of 03-jan-2019\n",
    "df1=pd.read_csv('data.csv')\n",
    "df1=df1.set_index('Date')\n",
    "x=df1.loc['03-Jan-2019']['Close']\n",
    "x=np.round(x,decimals=-2)\n",
    "\n",
    "## extracting the values of close from 3-jan to 10-jan from df dataframe\n",
    "n3=df.loc['10-Jan-2019'].loc['03-Jan-2019'].loc[26600:27400]['Close']\n",
    "n4=df.loc['10-Jan-2019'].loc['04-Jan-2019'].loc[26600:27400]['Close']\n",
    "n7=df.loc['10-Jan-2019'].loc['07-Jan-2019'].loc[26600:27400]['Close']\n",
    "n8=df.loc['10-Jan-2019'].loc['08-Jan-2019'].loc[26600:27400]['Close']\n",
    "n9=df.loc['10-Jan-2019'].loc['09-Jan-2019'].loc[26600:27400]['Close']\n",
    "n10=df.loc['10-Jan-2019'].loc['10-Jan-2019'].loc[26600:27400]['Close']\n",
    "\n",
    "## merging the values and renaming the columns heading to the dates\n",
    "m1=pd.merge(n3,n4,how='left',on=['Strike Price'])\n",
    "m1['03-Jan-2019']=m1['Close_x']\n",
    "m1['04-Jan-2019']=m1['Close_y']\n",
    "m1=m1.drop(['Close_x','Close_y'],axis=1)\n",
    "\n",
    "m2=pd.merge(m1,n7,how='left',on=['Strike Price'])\n",
    "m3=pd.merge(m2,n8,how='left',on=['Strike Price'])\n",
    "m3['07-Jan-2019']=m3['Close_x']\n",
    "m3['08-Jan-2019']=m3['Close_y']\n",
    "m3=m3.drop(['Close_x','Close_y'],axis=1)\n",
    "\n",
    "m4=pd.merge(m3,n9,how='left',on=['Strike Price'])\n",
    "m5=pd.merge(m4,n10,how='left',on=['Strike Price'])\n",
    "m5['09-Jan-2019']=m5['Close_x']\n",
    "m5['10-Jan-2019']=m5['Close_y']\n",
    "m5=m5.drop(['Close_x','Close_y'],axis=1)\n",
    "\n",
    "## adding a expiry column to the existing dataframe\n",
    "m5['Expiry']='10-Jan-2019'\n",
    "\n",
    "## import matplotlib library to plot the diagramatic ways\n",
    "import matplotlib.pyplot as plt\n",
    "%matplotlib inline\n",
    "\n",
    "\n",
    "#### changing a current directory to read the csv file and read csv file \n",
    "os.chdir('C:\\\\Users\\\\bired\\\\Desktop\\\\pics')\n",
    "df=pd.read_csv('nifty3.PE.csv')\n",
    "\n",
    "## droping unwanted columns and set the [expiry,date,strikeprice] as index\n",
    "df=df.drop([\"Symbol\",\"Option Type\",\"Settle Price\",\"No. of contracts\",\"Turnover in Lacs\",\"Premium Turnover in Lacs\",\"Open Int\",\"Change in OI\",\"Underlying Value\"],axis=1)\n",
    "df.set_index(['Expiry','Date','Strike Price'],inplace=True)\n",
    "\n",
    "## from this dataframe we extract the close value of 03-jan-2019\n",
    "df1=pd.read_csv('data.csv')\n",
    "df1=df1.set_index('Date')\n",
    "x=df1.loc['03-Jan-2019']['Close']\n",
    "x=np.round(x,decimals=-2)\n",
    "\n",
    "## extracting the values of close from 3-jan to 10-jan from df dataframe\n",
    "n3=df.loc['10-Jan-2019'].loc['03-Jan-2019'].loc[26600:27400]['Close']\n",
    "n4=df.loc['10-Jan-2019'].loc['04-Jan-2019'].loc[26600:27400]['Close']\n",
    "n7=df.loc['10-Jan-2019'].loc['07-Jan-2019'].loc[26600:27400]['Close']\n",
    "n8=df.loc['10-Jan-2019'].loc['08-Jan-2019'].loc[26600:27400]['Close']\n",
    "n9=df.loc['10-Jan-2019'].loc['09-Jan-2019'].loc[26600:27400]['Close']\n",
    "n10=df.loc['10-Jan-2019'].loc['10-Jan-2019'].loc[26600:27400]['Close']\n",
    "\n",
    "## merging the values \n",
    "m1=pd.merge(n3,n4,how='left',on=['Strike Price'])\n",
    "m1=m1.rename(columns={'Close_x':'03-Jan-2019','Close_y':'04-Jan-2019'})\n",
    "\n",
    "m2=pd.merge(m1,n7,how='left',on=['Strike Price'])\n",
    "m3=pd.merge(m2,n8,how='left',on=['Strike Price'])\n",
    "m3=m3.rename(columns={'Close_x':'07-Jan-2019','Close_y':'08-Jan-2019'})\n",
    "\n",
    "\n",
    "m4=pd.merge(m3,n9,how='left',on=['Strike Price'])\n",
    "m5=pd.merge(m4,n10,how='left',on=['Strike Price'])\n",
    "m5=m5.rename(columns={'Close_x':'09-Jan-2019','Close_y':'10-Jan-2019'})\n",
    "\n",
    "m5['Expiry']='10-Jan-2019'\n",
    "\n",
    "x=['3-jan','4-jan','7-jan','8-jan','9-jan','10-jan']\n",
    "y=[223.90,101.05,57.55,21.35,4.35,0.05]\n",
    "y1=[231.6,342.30,344.15,501.15,650.75,521.35]\n",
    "plt.plot(x,y,'go--')\n",
    "plt.plot(x,y1,'ro--')\n",
    "plt.xlabel('Date')\n",
    "plt.ylabel('strike price_27000')"
   ]
  },
  {
   "cell_type": "code",
   "execution_count": 7,
   "metadata": {},
   "outputs": [],
   "source": [
    "x = np.linspace(0, 2*np.pi, 400)\n",
    "y = np.sin(x**2)"
   ]
  },
  {
   "cell_type": "code",
   "execution_count": 8,
   "metadata": {},
   "outputs": [
    {
     "data": {
      "text/plain": [
       "Text(0.5, 1.0, 'Simple plot')"
      ]
     },
     "execution_count": 8,
     "metadata": {},
     "output_type": "execute_result"
    },
    {
     "data": {
      "image/png": "[encoded data removed]",
      "text/plain": [
       "<Figure size 432x288 with 1 Axes>"
      ]
     },
     "metadata": {
      "needs_background": "light"
     },
     "output_type": "display_data"
    }
   ],
   "source": [
    "# Creates just a figure and only one subplot\n",
    "fig, ax = plt.subplots()\n",
    "ax.plot(x, y)\n",
    "ax.set_title('Simple plot')"
   ]
  },
  {
   "cell_type": "markdown",
   "metadata": {},
   "source": [
    "# new"
   ]
  },
  {
   "cell_type": "code",
   "execution_count": 32,
   "metadata": {},
   "outputs": [],
   "source": [
    "n3=df.loc['10-Jan-2019'].loc['03-Jan-2019'].loc[26600:27400]['Close']\n",
    "n4=df.loc['10-Jan-2019'].loc['04-Jan-2019'].loc[26600:27400]['Close']\n",
    "n7=df.loc['10-Jan-2019'].loc['07-Jan-2019'].loc[26600:27400]['Close']\n",
    "n8=df.loc['10-Jan-2019'].loc['08-Jan-2019'].loc[26600:27400]['Close']\n",
    "n9=df.loc['10-Jan-2019'].loc['09-Jan-2019'].loc[26600:27400]['Close']\n",
    "n10=df.loc['10-Jan-2019'].loc['10-Jan-2019'].loc[26600:27400]['Close']"
   ]
  },
  {
   "cell_type": "code",
   "execution_count": 23,
   "metadata": {},
   "outputs": [
    {
     "data": {
      "text/plain": [
       "Strike Price\n",
       "26600     84.75\n",
       "26700    110.95\n",
       "26800    141.10\n",
       "26900    180.30\n",
       "27000    223.90\n",
       "27100    277.75\n",
       "27200    336.30\n",
       "27300    402.35\n",
       "27400    471.90\n",
       "Name: Close, dtype: float64"
      ]
     },
     "execution_count": 23,
     "metadata": {},
     "output_type": "execute_result"
    }
   ],
   "source": [
    "n3"
   ]
  },
  {
   "cell_type": "code",
   "execution_count": 29,
   "metadata": {},
   "outputs": [
    {
     "data": {
      "text/plain": [
       "Strike Price\n",
       "26600     26.15\n",
       "26700     37.35\n",
       "26800     53.65\n",
       "26900     74.00\n",
       "27000    101.05\n",
       "27100    134.60\n",
       "27200    174.35\n",
       "27300    219.70\n",
       "27400    274.55\n",
       "Name: Close, dtype: float64"
      ]
     },
     "execution_count": 29,
     "metadata": {},
     "output_type": "execute_result"
    }
   ],
   "source": [
    "n4"
   ]
  },
  {
   "cell_type": "code",
   "execution_count": 30,
   "metadata": {},
   "outputs": [
    {
     "data": {
      "text/plain": [
       "Strike Price\n",
       "26600     12.45\n",
       "26700     18.60\n",
       "26800     28.00\n",
       "26900     40.45\n",
       "27000     57.55\n",
       "27100     79.95\n",
       "27200    113.80\n",
       "27300    156.35\n",
       "27400    209.40\n",
       "Name: Close, dtype: float64"
      ]
     },
     "execution_count": 30,
     "metadata": {},
     "output_type": "execute_result"
    }
   ],
   "source": [
    "n7"
   ]
  },
  {
   "cell_type": "code",
   "execution_count": null,
   "metadata": {},
   "outputs": [],
   "source": []
  },
  {
   "cell_type": "code",
   "execution_count": 14,
   "metadata": {},
   "outputs": [],
   "source": [
    "#trial code"
   ]
  },
  {
   "cell_type": "code",
   "execution_count": 23,
   "metadata": {},
   "outputs": [],
   "source": [
    "n3=df.loc['10-Jan-2019'].loc['03-Jan-2019'].loc[26600:27400]['Close']\n",
    "n4=df.loc['10-Jan-2019'].loc['04-Jan-2019'].loc[26600:27400]['Close']\n",
    "n7=df.loc['10-Jan-2019'].loc['07-Jan-2019'].loc[26600:27400]['Close']\n",
    "n8=df.loc['10-Jan-2019'].loc['08-Jan-2019'].loc[26600:27400]['Close']\n",
    "n9=df.loc['10-Jan-2019'].loc['09-Jan-2019'].loc[26600:27400]['Close']\n",
    "n10=df.loc['10-Jan-2019'].loc['10-Jan-2019'].loc[26600:27400]['Close']\n"
   ]
  },
  {
   "cell_type": "code",
   "execution_count": 24,
   "metadata": {},
   "outputs": [
    {
     "data": {
      "text/plain": [
       "Strike Price\n",
       "26600     84.75\n",
       "26700    110.95\n",
       "26800    141.10\n",
       "26900    180.30\n",
       "27000    223.90\n",
       "27100    277.75\n",
       "27200    336.30\n",
       "27300    402.35\n",
       "27400    471.90\n",
       "Name: Close, dtype: float64"
      ]
     },
     "execution_count": 24,
     "metadata": {},
     "output_type": "execute_result"
    }
   ],
   "source": [
    "n3"
   ]
  },
  {
   "cell_type": "code",
   "execution_count": 3,
   "metadata": {},
   "outputs": [],
   "source": [
    "import pandas as pd\n",
    "rng_th=pd.date_range(start=\"03-Jan-2019\",end=\"10-Jan-2019\",freq='B')\n",
    "rng_th=pd.date_range(start=\"03-Jan-2019\",end=\"10-Jan-2019\",freq='B')"
   ]
  },
  {
   "cell_type": "code",
   "execution_count": 4,
   "metadata": {},
   "outputs": [
    {
     "data": {
      "text/plain": [
       "DatetimeIndex(['2019-01-03', '2019-01-04', '2019-01-07', '2019-01-08',\n",
       "               '2019-01-09', '2019-01-10'],\n",
       "              dtype='datetime64[ns]', freq='B')"
      ]
     },
     "execution_count": 4,
     "metadata": {},
     "output_type": "execute_result"
    }
   ],
   "source": [
    "rng_th"
   ]
  },
  {
   "cell_type": "code",
   "execution_count": null,
   "metadata": {},
   "outputs": [],
   "source": []
  },
  {
   "cell_type": "code",
   "execution_count": null,
   "metadata": {},
   "outputs": [],
   "source": []
  },
  {
   "cell_type": "code",
   "execution_count": null,
   "metadata": {},
   "outputs": [],
   "source": []
  },
  {
   "cell_type": "code",
   "execution_count": 15,
   "metadata": {},
   "outputs": [
    {
     "name": "stdout",
     "output_type": "stream",
     "text": [
      "[(26900, 27000, 27100), (26800, 27000, 27200), (26700, 27000, 27300)]\n",
      "26700\n",
      "27300\n",
      "df.loc[10-Jan-2019].loc[03-Jan-2019].loc[26700:27300]['Close']\n",
      "df.loc[10-Jan-2019].loc[04-Jan-2019].loc[26700:27300]['Close']\n",
      "df.loc[10-Jan-2019].loc[07-Jan-2019].loc[26700:27300]['Close']\n",
      "df.loc[10-Jan-2019].loc[08-Jan-2019].loc[26700:27300]['Close']\n",
      "df.loc[10-Jan-2019].loc[09-Jan-2019].loc[26700:27300]['Close']\n",
      "df.loc[10-Jan-2019].loc[10-Jan-2019].loc[26700:27300]['Close']\n"
     ]
    }
   ],
   "source": [
    "import pandas as pd\n",
    "rng_th=pd.date_range(start=\"1/1/2019\",end=\"31/1/2019\",freq='W-THU')\n",
    "rng_b=pd.date_range(start=\"1/1/2019\",end=\"31/1/2019\",freq='B')\n",
    "rng_d=pd.date_range(start=\"1/1/2019\",end=\"31/1/2019\",freq='D')\n",
    "rng_th.symmetric_difference\n",
    "b=[\"03-Jan-2019\",\"04-Jan-2019\",\"07-Jan-2019\",\"08-Jan-2019\",\"09-Jan-2019\",\"10-Jan-2019\"]\n",
    "a=\"10-Jan-2019\"\n",
    "x=[27000]\n",
    "c=[100,200,300]\n",
    "d=[(x[0]-i,x[0],x[0]+i) for i in c ]\n",
    "print(d)\n",
    "print(d[2][0])\n",
    "print(d[2][2])\n",
    "for i in b:\n",
    "    print(\"df.loc[{}].loc[{}].loc[{}:{}]['Close']\".format(a,i,d[2][0],d[2][2]))"
   ]
  },
  {
   "cell_type": "code",
   "execution_count": 16,
   "metadata": {},
   "outputs": [],
   "source": [
    "A={1,2,3,4,5}\n",
    "B={1,2,6,7,8}\n",
    "#A.intersection(B)"
   ]
  },
  {
   "cell_type": "code",
   "execution_count": 17,
   "metadata": {},
   "outputs": [
    {
     "data": {
      "text/plain": [
       "{1, 2}"
      ]
     },
     "execution_count": 17,
     "metadata": {},
     "output_type": "execute_result"
    }
   ],
   "source": [
    "A.intersection(B)"
   ]
  },
  {
   "cell_type": "code",
   "execution_count": 18,
   "metadata": {},
   "outputs": [],
   "source": [
    "A.intersection_update(B)"
   ]
  },
  {
   "cell_type": "code",
   "execution_count": 19,
   "metadata": {},
   "outputs": [
    {
     "data": {
      "text/plain": [
       "{1, 2}"
      ]
     },
     "execution_count": 19,
     "metadata": {},
     "output_type": "execute_result"
    }
   ],
   "source": [
    "A"
   ]
  },
  {
   "cell_type": "code",
   "execution_count": 1,
   "metadata": {},
   "outputs": [],
   "source": [
    "import numpy as np\n",
    "import pandas as pd\n",
    "import matplotlib.pyplot"
   ]
  },
  {
   "cell_type": "code",
   "execution_count": 25,
   "metadata": {},
   "outputs": [],
   "source": [
    "A.difference_update(B)"
   ]
  },
  {
   "cell_type": "code",
   "execution_count": 26,
   "metadata": {},
   "outputs": [
    {
     "data": {
      "text/plain": [
       "{3, 4, 5}"
      ]
     },
     "execution_count": 26,
     "metadata": {},
     "output_type": "execute_result"
    }
   ],
   "source": [
    "A"
   ]
  },
  {
   "cell_type": "code",
   "execution_count": 28,
   "metadata": {},
   "outputs": [
    {
     "data": {
      "text/plain": [
       "{1, 2, 6, 7, 8}"
      ]
     },
     "execution_count": 28,
     "metadata": {},
     "output_type": "execute_result"
    }
   ],
   "source": [
    "B"
   ]
  },
  {
   "cell_type": "code",
   "execution_count": 36,
   "metadata": {},
   "outputs": [
    {
     "data": {
      "text/plain": [
       "27000"
      ]
     },
     "execution_count": 36,
     "metadata": {},
     "output_type": "execute_result"
    }
   ],
   "source": [
    "x=[27000]\n",
    "int(x[0])"
   ]
  },
  {
   "cell_type": "code",
   "execution_count": 11,
   "metadata": {},
   "outputs": [
    {
     "data": {
      "text/plain": [
       "list"
      ]
     },
     "execution_count": 11,
     "metadata": {},
     "output_type": "execute_result"
    }
   ],
   "source": [
    "type(x)"
   ]
  },
  {
   "cell_type": "code",
   "execution_count": 12,
   "metadata": {},
   "outputs": [
    {
     "data": {
      "text/plain": [
       "['__and__',\n",
       " '__class__',\n",
       " '__contains__',\n",
       " '__delattr__',\n",
       " '__dir__',\n",
       " '__doc__',\n",
       " '__eq__',\n",
       " '__format__',\n",
       " '__ge__',\n",
       " '__getattribute__',\n",
       " '__gt__',\n",
       " '__hash__',\n",
       " '__iand__',\n",
       " '__init__',\n",
       " '__init_subclass__',\n",
       " '__ior__',\n",
       " '__isub__',\n",
       " '__iter__',\n",
       " '__ixor__',\n",
       " '__le__',\n",
       " '__len__',\n",
       " '__lt__',\n",
       " '__ne__',\n",
       " '__new__',\n",
       " '__or__',\n",
       " '__rand__',\n",
       " '__reduce__',\n",
       " '__reduce_ex__',\n",
       " '__repr__',\n",
       " '__ror__',\n",
       " '__rsub__',\n",
       " '__rxor__',\n",
       " '__setattr__',\n",
       " '__sizeof__',\n",
       " '__str__',\n",
       " '__sub__',\n",
       " '__subclasshook__',\n",
       " '__xor__',\n",
       " 'add',\n",
       " 'clear',\n",
       " 'copy',\n",
       " 'difference',\n",
       " 'difference_update',\n",
       " 'discard',\n",
       " 'intersection',\n",
       " 'intersection_update',\n",
       " 'isdisjoint',\n",
       " 'issubset',\n",
       " 'issuperset',\n",
       " 'pop',\n",
       " 'remove',\n",
       " 'symmetric_difference',\n",
       " 'symmetric_difference_update',\n",
       " 'union',\n",
       " 'update']"
      ]
     },
     "execution_count": 12,
     "metadata": {},
     "output_type": "execute_result"
    }
   ],
   "source": [
    "dir(set)"
   ]
  },
  {
   "cell_type": "code",
   "execution_count": 73,
   "metadata": {},
   "outputs": [
    {
     "data": {
      "text/plain": [
       "{3, 4, 5, 6, 7, 8}"
      ]
     },
     "execution_count": 73,
     "metadata": {},
     "output_type": "execute_result"
    }
   ],
   "source": [
    "A.symmetric_difference(B)"
   ]
  },
  {
   "cell_type": "code",
   "execution_count": 74,
   "metadata": {},
   "outputs": [
    {
     "data": {
      "text/plain": [
       "{3, 4, 5}"
      ]
     },
     "execution_count": 74,
     "metadata": {},
     "output_type": "execute_result"
    }
   ],
   "source": [
    "A.difference(B)"
   ]
  },
  {
   "cell_type": "code",
   "execution_count": 2,
   "metadata": {},
   "outputs": [],
   "source": [
    "rng_th=pd.date_range(start=\"1/1/2019\",end=\"31/1/2019\",freq='W-THU')\n",
    "rng_b=pd.date_range(start=\"1/1/2019\",end=\"31/1/2019\",freq='B')\n",
    "rng_d=pd.date_range(start=\"1/1/2019\",end=\"31/1/2019\",freq='D')"
   ]
  },
  {
   "cell_type": "code",
   "execution_count": 3,
   "metadata": {},
   "outputs": [
    {
     "data": {
      "text/plain": [
       "DatetimeIndex(['2019-01-03', '2019-01-10', '2019-01-17', '2019-01-24',\n",
       "               '2019-01-31'],\n",
       "              dtype='datetime64[ns]', freq='W-THU')"
      ]
     },
     "execution_count": 3,
     "metadata": {},
     "output_type": "execute_result"
    }
   ],
   "source": [
    "rng_th"
   ]
  },
  {
   "cell_type": "code",
   "execution_count": 4,
   "metadata": {},
   "outputs": [
    {
     "data": {
      "text/plain": [
       "DatetimeIndex(['2019-01-01', '2019-01-02', '2019-01-03', '2019-01-04',\n",
       "               '2019-01-07', '2019-01-08', '2019-01-09', '2019-01-10',\n",
       "               '2019-01-11', '2019-01-14', '2019-01-15', '2019-01-16',\n",
       "               '2019-01-17', '2019-01-18', '2019-01-21', '2019-01-22',\n",
       "               '2019-01-23', '2019-01-24', '2019-01-25', '2019-01-28',\n",
       "               '2019-01-29', '2019-01-30', '2019-01-31'],\n",
       "              dtype='datetime64[ns]', freq='B')"
      ]
     },
     "execution_count": 4,
     "metadata": {},
     "output_type": "execute_result"
    }
   ],
   "source": [
    "rng_b"
   ]
  },
  {
   "cell_type": "code",
   "execution_count": 5,
   "metadata": {},
   "outputs": [
    {
     "data": {
      "text/plain": [
       "DatetimeIndex(['2019-01-01', '2019-01-02', '2019-01-03', '2019-01-04',\n",
       "               '2019-01-05', '2019-01-06', '2019-01-07', '2019-01-08',\n",
       "               '2019-01-09', '2019-01-10', '2019-01-11', '2019-01-12',\n",
       "               '2019-01-13', '2019-01-14', '2019-01-15', '2019-01-16',\n",
       "               '2019-01-17', '2019-01-18', '2019-01-19', '2019-01-20',\n",
       "               '2019-01-21', '2019-01-22', '2019-01-23', '2019-01-24',\n",
       "               '2019-01-25', '2019-01-26', '2019-01-27', '2019-01-28',\n",
       "               '2019-01-29', '2019-01-30', '2019-01-31'],\n",
       "              dtype='datetime64[ns]', freq='D')"
      ]
     },
     "execution_count": 5,
     "metadata": {},
     "output_type": "execute_result"
    }
   ],
   "source": [
    "rng_d"
   ]
  },
  {
   "cell_type": "code",
   "execution_count": 83,
   "metadata": {},
   "outputs": [
    {
     "name": "stdout",
     "output_type": "stream",
     "text": [
      "10-Jan-2019\n",
      "10-Jan-2019\n",
      "10-Jan-2019\n"
     ]
    }
   ],
   "source": [
    "b=[\"03-Jan-2019\",\"04-Jan-2019\",\"07-Jan-2019\",\"08-Jan-2019\",\"09-Jan-2019\",\"10-Jan-2019\"]\n",
    "a=\"10-Jan-2019\"\n",
    "for i in range(3):\n",
    "    print(a)"
   ]
  },
  {
   "cell_type": "code",
   "execution_count": 87,
   "metadata": {},
   "outputs": [
    {
     "name": "stdout",
     "output_type": "stream",
     "text": [
      "10-Jan-2019 03-Jan-2019\n",
      "10-Jan-2019 04-Jan-2019\n",
      "10-Jan-2019 07-Jan-2019\n",
      "10-Jan-2019 08-Jan-2019\n",
      "10-Jan-2019 09-Jan-2019\n",
      "10-Jan-2019 10-Jan-2019\n"
     ]
    }
   ],
   "source": [
    "b=[\"03-Jan-2019\",\"04-Jan-2019\",\"07-Jan-2019\",\"08-Jan-2019\",\"09-Jan-2019\",\"10-Jan-2019\"]\n",
    "a=\"10-Jan-2019\"\n",
    "for i in b:\n",
    "    print(a,i)"
   ]
  },
  {
   "cell_type": "code",
   "execution_count": 6,
   "metadata": {},
   "outputs": [
    {
     "data": {
      "text/plain": [
       "DatetimeIndex(['2019-01-01', '2019-01-02', '2019-01-03', '2019-01-04',\n",
       "               '2019-01-07', '2019-01-08', '2019-01-09', '2019-01-10',\n",
       "               '2019-01-11', '2019-01-14', '2019-01-15', '2019-01-16',\n",
       "               '2019-01-17', '2019-01-18', '2019-01-21', '2019-01-22',\n",
       "               '2019-01-23', '2019-01-24', '2019-01-25', '2019-01-28',\n",
       "               '2019-01-29', '2019-01-30', '2019-01-31'],\n",
       "              dtype='datetime64[ns]', freq='B')"
      ]
     },
     "execution_count": 6,
     "metadata": {},
     "output_type": "execute_result"
    }
   ],
   "source": [
    "rng_b"
   ]
  },
  {
   "cell_type": "code",
   "execution_count": 88,
   "metadata": {},
   "outputs": [
    {
     "data": {
      "text/plain": [
       "DatetimeIndex(['2019-01-01', '2019-01-02', '2019-01-04', '2019-01-07',\n",
       "               '2019-01-08', '2019-01-09', '2019-01-11', '2019-01-14',\n",
       "               '2019-01-15', '2019-01-16', '2019-01-18', '2019-01-21',\n",
       "               '2019-01-22', '2019-01-23', '2019-01-25', '2019-01-28',\n",
       "               '2019-01-29', '2019-01-30'],\n",
       "              dtype='datetime64[ns]', freq=None)"
      ]
     },
     "execution_count": 88,
     "metadata": {},
     "output_type": "execute_result"
    }
   ],
   "source": [
    "rng_b.difference(rng_th)"
   ]
  },
  {
   "cell_type": "code",
   "execution_count": 90,
   "metadata": {},
   "outputs": [
    {
     "data": {
      "text/plain": [
       "DatetimeIndex(['2019-01-01', '2019-01-02', '2019-01-04', '2019-01-07',\n",
       "               '2019-01-08', '2019-01-09', '2019-01-11', '2019-01-14',\n",
       "               '2019-01-15', '2019-01-16', '2019-01-18', '2019-01-21',\n",
       "               '2019-01-22', '2019-01-23', '2019-01-25', '2019-01-28',\n",
       "               '2019-01-29', '2019-01-30'],\n",
       "              dtype='datetime64[ns]', freq=None)"
      ]
     },
     "execution_count": 90,
     "metadata": {},
     "output_type": "execute_result"
    }
   ],
   "source": [
    "rng_b.symmetric_difference(rng_th)"
   ]
  },
  {
   "cell_type": "code",
   "execution_count": 96,
   "metadata": {},
   "outputs": [
    {
     "data": {
      "text/plain": [
       "DatetimeIndex(['2019-01-03', '2019-01-04', '2019-01-07', '2019-01-08',\n",
       "               '2019-01-09'],\n",
       "              dtype='datetime64[ns]', freq='B')"
      ]
     },
     "execution_count": 96,
     "metadata": {},
     "output_type": "execute_result"
    }
   ],
   "source": [
    "pd.date_range(start='1/3/2019', periods=5,freq='B')"
   ]
  },
  {
   "cell_type": "code",
   "execution_count": 12,
   "metadata": {},
   "outputs": [
    {
     "name": "stdout",
     "output_type": "stream",
     "text": [
      "DatetimeIndex(['2019-07-04', '2019-07-05', '2019-07-08', '2019-07-09',\n",
      "               '2019-07-10', '2019-07-11'],\n",
      "              dtype='datetime64[ns]', freq='B')\n"
     ]
    }
   ],
   "source": [
    "import pandas as pd\n",
    "# To get all thursdays in a month\n",
    "df=pd.date_range(start=\"7/1/2019\",end=\"7/30/2019\",freq='W-THU')\n",
    "#print(df)\n",
    "# To get dates between two thursdays\n",
    "df_tt=pd.date_range(start=df[0], periods=6,freq='B')\n",
    "print(df_tt)"
   ]
  },
  {
   "cell_type": "code",
   "execution_count": 13,
   "metadata": {},
   "outputs": [
    {
     "name": "stdout",
     "output_type": "stream",
     "text": [
      "DatetimeIndex(['2019-07-04', '2019-07-11', '2019-07-18', '2019-07-25'], dtype='datetime64[ns]', freq='W-THU')\n"
     ]
    }
   ],
   "source": [
    "print(df)"
   ]
  },
  {
   "cell_type": "code",
   "execution_count": null,
   "metadata": {},
   "outputs": [],
   "source": []
  },
  {
   "cell_type": "code",
   "execution_count": 17,
   "metadata": {},
   "outputs": [],
   "source": [
    "import pandas as pd\n",
    "df1=pd.date_range(start=\"2019/7/1\",end=\"2019/7/31\",freq='W-THU')"
   ]
  },
  {
   "cell_type": "code",
   "execution_count": 15,
   "metadata": {},
   "outputs": [
    {
     "data": {
      "text/plain": [
       "DatetimeIndex(['2019-07-04', '2019-07-11', '2019-07-18', '2019-07-25'], dtype='datetime64[ns]', freq='W-THU')"
      ]
     },
     "execution_count": 15,
     "metadata": {},
     "output_type": "execute_result"
    }
   ],
   "source": [
    "df"
   ]
  },
  {
   "cell_type": "code",
   "execution_count": 1,
   "metadata": {},
   "outputs": [
    {
     "ename": "NameError",
     "evalue": "name 'date_range' is not defined",
     "output_type": "error",
     "traceback": [
      "\u001b[1;31m---------------------------------------------------------------------------\u001b[0m",
      "\u001b[1;31mNameError\u001b[0m                                 Traceback (most recent call last)",
      "\u001b[1;32m<ipython-input-1-7a2918eec133>\u001b[0m in \u001b[0;36m<module>\u001b[1;34m\u001b[0m\n\u001b[1;32m----> 1\u001b[1;33m \u001b[0mdf_tt\u001b[0m\u001b[1;33m=\u001b[0m\u001b[0mdate_range\u001b[0m\u001b[1;33m(\u001b[0m\u001b[0mstart\u001b[0m\u001b[1;33m=\u001b[0m\u001b[0mdf1\u001b[0m\u001b[1;33m[\u001b[0m\u001b[1;36m0\u001b[0m\u001b[1;33m]\u001b[0m\u001b[1;33m,\u001b[0m\u001b[0mperidos\u001b[0m\u001b[1;33m=\u001b[0m\u001b[1;36m6\u001b[0m\u001b[1;33m,\u001b[0m\u001b[0mfreq\u001b[0m\u001b[1;33m=\u001b[0m\u001b[1;34m'B'\u001b[0m\u001b[1;33m)\u001b[0m\u001b[1;33m\u001b[0m\u001b[1;33m\u001b[0m\u001b[0m\n\u001b[0m",
      "\u001b[1;31mNameError\u001b[0m: name 'date_range' is not defined"
     ]
    }
   ],
   "source": [
    "df_tt=date_range(start=df1[0],peridos=6,freq='B')"
   ]
  },
  {
   "cell_type": "code",
   "execution_count": null,
   "metadata": {},
   "outputs": [],
   "source": []
  }
 ],
 "metadata": {
  "kernelspec": {
   "display_name": "Python 3",
   "language": "python",
   "name": "python3"
  },
  "language_info": {
   "codemirror_mode": {
    "name": "ipython",
    "version": 3
   },
   "file_extension": ".py",
   "mimetype": "text/x-python",
   "name": "python",
   "nbconvert_exporter": "python",
   "pygments_lexer": "ipython3",
   "version": "3.7.1"
  }
 },
 "nbformat": 4,
 "nbformat_minor": 2
}
