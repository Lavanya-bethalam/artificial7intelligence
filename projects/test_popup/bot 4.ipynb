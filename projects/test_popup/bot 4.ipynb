{
 "cells": [
  {
   "cell_type": "code",
   "execution_count": 1,
   "metadata": {},
   "outputs": [
    {
     "name": "stdout",
     "output_type": "stream",
     "text": [
      "Requirement already satisfied: pymsgbox in c:\\users\\mural\\anaconda3\\lib\\site-packages (1.0.7)\n"
     ]
    }
   ],
   "source": [
    "!pip install pymsgbox"
   ]
  },
  {
   "cell_type": "code",
   "execution_count": 3,
   "metadata": {},
   "outputs": [
    {
     "name": "stdout",
     "output_type": "stream",
     "text": [
      "\n",
      "\n"
     ]
    }
   ],
   "source": [
    "import pymsgbox\n",
    "pymsgbox.alert('Welcome', 'Title')\n",
    "response1 = pymsgbox.prompt('enter your Email id','Gmail verification')\n",
    "response2 = pymsgbox.prompt('enter your password','Gmail verification')\n",
    "pymsgbox.alert('Your data is hacked and is with Gopi now..bwhaha', 'Alert!!')\n",
    "print(response1)\n",
    "print(response2)"
   ]
  },
  {
   "cell_type": "code",
   "execution_count": null,
   "metadata": {},
   "outputs": [],
   "source": []
  }
 ],
 "metadata": {
  "kernelspec": {
   "display_name": "Python 3",
   "language": "python",
   "name": "python3"
  },
  "language_info": {
   "codemirror_mode": {
    "name": "ipython",
    "version": 3
   },
   "file_extension": ".py",
   "mimetype": "text/x-python",
   "name": "python",
   "nbconvert_exporter": "python",
   "pygments_lexer": "ipython3",
   "version": "3.7.3"
  }
 },
 "nbformat": 4,
 "nbformat_minor": 2
}
