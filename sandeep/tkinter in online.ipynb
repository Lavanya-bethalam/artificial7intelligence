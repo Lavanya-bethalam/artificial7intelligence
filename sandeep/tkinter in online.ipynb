{
 "cells": [
  {
   "cell_type": "code",
   "execution_count": 2,
   "metadata": {},
   "outputs": [
    {
     "name": "stdout",
     "output_type": "stream",
     "text": [
      "Demo tkinter\n"
     ]
    }
   ],
   "source": [
    "from tkinter import *\n",
    "from random import choice\n",
    "\n",
    "window = Tk()\n",
    "window.geometry(\"500x500\")\n",
    "window.title(\"Registration Form\")\n",
    "\n",
    "def printt():\n",
    "    print(\"Demo tkinter\")\n",
    "printt()\n",
    "\n",
    "def exit1():\n",
    "    exit(\"mainfile\")\n",
    "exit1()\n",
    "\n",
    "label1=Label(window,text=\"Registration Form\",width=20,font=(\"arial\",19,\"bold\"))\n",
    "label1.place(x=90,y=53)\n",
    "\n",
    "label2=Label(window,text=\"Firstname:\",width=20,font=(\"arial\",10,\"bold\"))\n",
    "label2.place(x=80,y=130)\n",
    "\n",
    "label3=Label(window,text=\"Lastname:\",width=20,font=(\"arial\",10,\"bold\"))\n",
    "label3.place(x=80,y=179)\n",
    "\n",
    "b1=Button(window,text=\"login\",width=12,bg=\"brown\",fg='white',command=printt)\n",
    "b1.place(x=150,y=380)\n",
    "\n",
    "b2=Button(window,text=\"quit\",width=12,bg=\"brown\",fg='white',command=exit1)\n",
    "b2.place(x=280,y=380)"
   ]
  },
  {
   "cell_type": "code",
   "execution_count": null,
   "metadata": {},
   "outputs": [],
   "source": []
  },
  {
   "cell_type": "code",
   "execution_count": null,
   "metadata": {},
   "outputs": [],
   "source": []
  }
 ],
 "metadata": {
  "kernelspec": {
   "display_name": "Python 3",
   "language": "python",
   "name": "python3"
  },
  "language_info": {
   "codemirror_mode": {
    "name": "ipython",
    "version": 3
   },
   "file_extension": ".py",
   "mimetype": "text/x-python",
   "name": "python",
   "nbconvert_exporter": "python",
   "pygments_lexer": "ipython3",
   "version": "3.7.3"
  }
 },
 "nbformat": 4,
 "nbformat_minor": 2
}
